{
  "nbformat": 4,
  "nbformat_minor": 0,
  "metadata": {
    "colab": {
      "name": "PythonForDataScience.ipynb",
      "provenance": [],
      "authorship_tag": "ABX9TyPwSxLaCTGT37wlO4urS2Oz",
      "include_colab_link": true
    },
    "kernelspec": {
      "name": "python3",
      "display_name": "Python 3"
    },
    "language_info": {
      "name": "python"
    }
  },
  "cells": [
    {
      "cell_type": "markdown",
      "metadata": {
        "id": "view-in-github",
        "colab_type": "text"
      },
      "source": [
        "<a href=\"https://colab.research.google.com/github/anggadk01/ambis_coding/blob/main/PythonForDataScience.ipynb\" target=\"_parent\"><img src=\"https://colab.research.google.com/assets/colab-badge.svg\" alt=\"Open In Colab\"/></a>"
      ]
    },
    {
      "cell_type": "markdown",
      "metadata": {
        "id": "k1z3SL84Zbqg"
      },
      "source": [
        "# Mini_Course_Haltav"
      ]
    },
    {
      "cell_type": "markdown",
      "metadata": {
        "id": "LTjPwkM7aM5D"
      },
      "source": [
        "## Assignment"
      ]
    },
    {
      "cell_type": "code",
      "metadata": {
        "id": "bXydcMAQZZu8"
      },
      "source": [
        "## - User diminta input temperature dalam C, dan unit konversi\n",
        "## Jika unit konversi sm dengan R, hasil = ⅘ C;\n",
        "## Jika unit konversi sm dengan F, hasil = 9/5 C + 32; \n",
        "## Jika unit konversi sm dengan K, hasil = C +273.15; \n",
        "## Print hasil\n",
        "\n",
        "suhu = (input(\"Masukan Temperature Suhu dalam C : \"))\n",
        "k_s = input(\"Konversi Suhu --> R - F - K : \")\n",
        "if k_s == 'R' :\n",
        "    suhu = float(suhu)\n",
        "    hasil = (4 / 5 * suhu)\n",
        "    print(hasil)\n",
        "elif k_s == 'F' :\n",
        "    hasil = (9 / 5 * suhu +32)\n",
        "    print(hasil)\n",
        "elif k_s == 'K' :\n",
        "    hasil = (273.15 + suhu)\n",
        "    print(hasil)\n",
        "else :\n",
        "    hasil = 0\n",
        "    print(\"Salah masukan input konversi suhu!!! \\n Ulangi !\")\n",
        "    \n"
      ],
      "execution_count": null,
      "outputs": []
    },
    {
      "cell_type": "code",
      "metadata": {
        "id": "l5rxrEYHa6OS"
      },
      "source": [
        "#if statement\n",
        "#Potongan harga toko\n",
        "#jika pembeli belanja 1jt dapat disc 50%\n",
        "#jika pembeli belanja 500k dapat disc 25%\n",
        "print(\"Toko Bahagia \\n\")\n",
        "beli = float(input(\"Total jumlah harga yang anda beli : \"))\n",
        "if beli > 1000000 :\n",
        "    disc = (beli * 0.5 )\n",
        "    print (\"Potongan yang anda dapat : \", disc)\n",
        "    bayar = (beli - disc)\n",
        "    print (\"Jumlah yang harus anda bayar : \", bayar)\n",
        "elif beli > 500000 :\n",
        "    disc = (beli * 0.25 )\n",
        "    print (\"Potongan yang anda dapat : \", disc)\n",
        "    bayar = (beli - disc)\n",
        "    print (\"Jumlah yang harus anda bayar : \", bayar)\n",
        "else :\n",
        "    print(\"Terima Kasih :)\")"
      ],
      "execution_count": null,
      "outputs": []
    },
    {
      "cell_type": "code",
      "metadata": {
        "id": "aLZdDJC6a9kH"
      },
      "source": [
        "## Problem: angka yang dimasukan user akan dikalikan dengan 4. Instruksi: input angka ke dalam variable -> hasil = Angka * 4 -> Keluarkan hasil\n",
        "print(\"Angga Dwi Kurniawan \\n Latihan Haltev\")\n",
        "user = int (input(\"Masukan Angka yang ingin di Input : \"))\n",
        "hasil = (user * 4)\n",
        "print(\"Hasil input setelah dikalikan 4 adalah : \",hasil)"
      ],
      "execution_count": null,
      "outputs": []
    },
    {
      "cell_type": "code",
      "metadata": {
        "id": "GM5R7YEObAYs"
      },
      "source": [
        "## Problem: menambahkan dua input dari user. Masukan input 1 -> Masukan input 2 -> Hasil = Input 1 + input 2 -> Keluarkan hasil\n",
        "print(\"Angga Dwi Kurniawan \\n Latihan Haltev\")\n",
        "user_1 = int (input(\"Masukan Angka yang ingin di Input 1 : \"))\n",
        "user_2 = int (input(\"Masukan Angka yang ingin di Input 2 : \"))\n",
        "hasil = (user_1 + user_2)\n",
        "print(\"Hasil input setelah ditambahkan kedua user adalah : \",hasil)"
      ],
      "execution_count": null,
      "outputs": []
    },
    {
      "cell_type": "code",
      "metadata": {
        "id": "1WGo3islbC85"
      },
      "source": [
        "## Buatlah list dari 1 - 1000 loncat 50\n",
        "print(\"Angga Dwi Kurniawan \\n Latihan Haltev\")\n",
        "var_1=list(range(0,1050,50))\n",
        "print(var_1)"
      ],
      "execution_count": null,
      "outputs": []
    },
    {
      "cell_type": "code",
      "metadata": {
        "id": "HxhO7K_JbFIk"
      },
      "source": [
        "## Buatlah list dari 10 ke 1\n",
        "print(\"Angga Dwi Kurniawan \\n Latihan Haltev\")\n",
        "var_1=list(range(10,0,-1))\n",
        "print(var_1)"
      ],
      "execution_count": null,
      "outputs": []
    },
    {
      "cell_type": "code",
      "metadata": {
        "id": "iC-VOsoObHSF"
      },
      "source": [
        "## Buatlah list dari 0 ke 10\n",
        "print(\"Angga Dwi Kurniawan \\n Latihan Haltev\")\n",
        "var_1=list(range(0,11,1))\n",
        "print(var_1)"
      ],
      "execution_count": null,
      "outputs": []
    },
    {
      "cell_type": "code",
      "metadata": {
        "id": "tfN1LIYabKrM"
      },
      "source": [
        "## User diminta input angkaJika angka genap = print “angka genap”,\n",
        "## Jika angka ganjil = print “angka ganjil”, hint gunakan mod (%)\n",
        "print(\"Angga Dwi Kurniawan \\n Latihan Haltev\")\n",
        "angka = int(input(\"Input Angka : \"))\n",
        "if angka % 2 == 0:\n",
        "    print(\"Angka Genap \",angka)\n",
        "else :\n",
        "    print(\"Angka Ganjil \",angka)"
      ],
      "execution_count": null,
      "outputs": []
    },
    {
      "cell_type": "code",
      "metadata": {
        "id": "UfV2QB3QbNwG"
      },
      "source": [
        "## User diminta input angka/tahunTahun tidak boleh < 2010\n",
        "## Jika input tahun yg diberikan user merupakan tahun kabisat (habis dibagi 4)\n",
        "## maka print “tahun kabisat” ; jika bukan print “tahun basit”\n",
        "print(\"Angga Dwi Kurniawan \\n Latihan Haltev\")\n",
        "tahun = int(input(\"Input tahun : \"))\n",
        "if tahun < 2010 :\n",
        "    print(\"Input salah!(Harus lebih dari 2010!)\")\n",
        "else:\n",
        "    if tahun % 4 == 0 :\n",
        "        print(\"Tahun Kabisat\")\n",
        "    else:\n",
        "        print(\"Tahun Basit\")"
      ],
      "execution_count": null,
      "outputs": []
    },
    {
      "cell_type": "code",
      "metadata": {
        "id": "Z3evP4t5bN98"
      },
      "source": [
        "## Buat deret fibonacci sampai angka 55 dengan menggunakan looping. Deret fibonacci: 1, 1, 2, 3, 5, 8, 13, 21, 34, 55\n",
        "print(\"Angga Dwi Kurniawan \\n Latihan Haltev\")\n",
        "a = 0\n",
        "b = 1\n",
        "c = 1\n",
        "while (c <= 9):\n",
        "    nilaiFibonacci = a + b\n",
        "    a = b\n",
        "    b = nilaiFibonacci\n",
        "    print(nilaiFibonacci, end=',')\n",
        "    c = c + 1"
      ],
      "execution_count": null,
      "outputs": []
    },
    {
      "cell_type": "code",
      "metadata": {
        "id": "gdZ8ZOzCbTtg"
      },
      "source": [
        "print(\"Angga Dwi Kurniawan \\n Latihan Haltev\")\n",
        "a = 5\n",
        "for i in range(0, a):\n",
        "    for j in range(0, i + 1):\n",
        "        print('* ' , end='')\n",
        "    print('')\n"
      ],
      "execution_count": null,
      "outputs": []
    },
    {
      "cell_type": "code",
      "metadata": {
        "id": "T15pDE_nbVV9"
      },
      "source": [
        "## Buat deret fibonacci sampai angka 55 dengan menggunakan looping. Deret fibonacci: 1, 1, 2, 3, 5, 8, 13, 21, 34, 55\n",
        "print(\"Angga Dwi Kurniawan \\n Latihan Haltev\")\n",
        "a = 0\n",
        "b = 1\n",
        "c = 1\n",
        "while (c <= 9):\n",
        "    nilaiFibonacci = a + b\n",
        "    a = b\n",
        "    b = nilaiFibonacci\n",
        "    print(nilaiFibonacci, end=',')\n",
        "    c = c + 1"
      ],
      "execution_count": null,
      "outputs": []
    },
    {
      "cell_type": "code",
      "metadata": {
        "id": "sYnmsH2rbYPE"
      },
      "source": [
        "print(\"Angga Dwi Kurniawan \\n Latihan Haltev\")\n",
        "a = 5\n",
        "for i in range(0, a):\n",
        "    for j in range(0, i + 1):\n",
        "        print('* ' , end='')\n",
        "    print('')"
      ],
      "execution_count": null,
      "outputs": []
    },
    {
      "cell_type": "code",
      "metadata": {
        "id": "riNW_pIpbaJp"
      },
      "source": [
        "print(\"Angga Dwi Kurniawan \\n Latihan Haltev\")\n",
        "harga_barang = [50000, 60000, 100000, 150000]\n",
        "diskon = [\"10%\",\"20%\",\"30%\",\"40%\"]\n",
        "setelah_diskon = [45000, 48000, 70000, 90000]\n",
        "print(\"Harga Barang : \", harga_barang)\n",
        "print(\"Diskon : \", diskon)\n",
        "print(\"Setelah Diskon : \", setelah_diskon)"
      ],
      "execution_count": null,
      "outputs": []
    },
    {
      "cell_type": "markdown",
      "metadata": {
        "id": "inLcqIrRbdKt"
      },
      "source": [
        "## CALC Anggadk\n"
      ]
    },
    {
      "cell_type": "code",
      "metadata": {
        "id": "9PXiAsSmblXp"
      },
      "source": [
        "print(\"Selamat Datang di Program Calc \\n\")\n",
        "angka_1 = float(input(\"Masukan Angka Pertama : \"))\n",
        "angka_2 = float(input(\"Masukan Angka Pertama : \"))\n",
        "operasi = input(\"Pilih Operasi : +, -, *, / = \")\n",
        "\n",
        "#if statement dari var operasi\n",
        "if operasi == \"+\":\n",
        "    print(angka_1, \"+\", angka_2, \"=\", angka_1+angka_2)\n",
        "elif operasi == \"-\":\n",
        "    print(angka_1, \"-\", angka_2, \"=\", angka_1-angka_2)\n",
        "elif operasi == \"*\":\n",
        "    print(angka_1, \"*\", angka_2, \"=\", angka_1*angka_2)\n",
        "elif operasi == \"/\":\n",
        "    print(angka_1, \"/\", angka_2, \"=\", angka_1/angka_2)\n",
        "else:\n",
        "    print(\"Salah Masukan Operasi! Ulangi!\")"
      ],
      "execution_count": null,
      "outputs": []
    }
  ]
}