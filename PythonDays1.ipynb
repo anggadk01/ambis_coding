{
  "nbformat": 4,
  "nbformat_minor": 0,
  "metadata": {
    "colab": {
      "name": "PythonDays1.ipynb",
      "provenance": [],
      "toc_visible": true,
      "authorship_tag": "ABX9TyNsTM1hxHUYCxc79HLXJDeH",
      "include_colab_link": true
    },
    "kernelspec": {
      "name": "python3",
      "display_name": "Python 3"
    },
    "language_info": {
      "name": "python"
    }
  },
  "cells": [
    {
      "cell_type": "markdown",
      "metadata": {
        "id": "view-in-github",
        "colab_type": "text"
      },
      "source": [
        "<a href=\"https://colab.research.google.com/github/anggadk01/ambis_coding/blob/main/PythonDays1.ipynb\" target=\"_parent\"><img src=\"https://colab.research.google.com/assets/colab-badge.svg\" alt=\"Open In Colab\"/></a>"
      ]
    },
    {
      "cell_type": "markdown",
      "metadata": {
        "id": "wLdaQ0Rl0BOc"
      },
      "source": [
        "#MiniCourseHaltev"
      ]
    },
    {
      "cell_type": "markdown",
      "metadata": {
        "id": "czeRIdd0XFah"
      },
      "source": [
        "#Pertemuan 1"
      ]
    },
    {
      "cell_type": "code",
      "metadata": {
        "colab": {
          "base_uri": "https://localhost:8080/"
        },
        "id": "0b8S1R5iXH3_",
        "outputId": "55351de0-6ea1-48b4-a4b8-603d24e65e18"
      },
      "source": [
        "print(\"hello joyboyb\")"
      ],
      "execution_count": null,
      "outputs": [
        {
          "output_type": "stream",
          "name": "stdout",
          "text": [
            "hello joyboy\n"
          ]
        }
      ]
    },
    {
      "cell_type": "markdown",
      "metadata": {
        "id": "lzx5epr7ZGJT"
      },
      "source": [
        "##python"
      ]
    },
    {
      "cell_type": "code",
      "metadata": {
        "colab": {
          "base_uri": "https://localhost:8080/"
        },
        "id": "4qaTJ4jIX5JU",
        "outputId": "d5ae87ec-3226-4bbc-fc78-ba995c3b61c1"
      },
      "source": [
        "a = 250\n",
        "b = 300\n",
        "c = input(\"holla \")\n",
        "print (a, b, c)\n",
        "print()\n",
        "type(a) #anggadk"
      ],
      "execution_count": null,
      "outputs": [
        {
          "output_type": "stream",
          "name": "stdout",
          "text": [
            "holla 112\n",
            "250 300 112\n",
            "\n"
          ]
        },
        {
          "output_type": "execute_result",
          "data": {
            "text/plain": [
              "int"
            ]
          },
          "metadata": {},
          "execution_count": 34
        }
      ]
    },
    {
      "cell_type": "markdown",
      "metadata": {
        "id": "7SYAaxPKBVn3"
      },
      "source": [
        "##CALC JOYBOY"
      ]
    },
    {
      "cell_type": "code",
      "metadata": {
        "colab": {
          "base_uri": "https://localhost:8080/",
          "height": 265
        },
        "id": "MizHuhAOdyyY",
        "outputId": "0fccec8a-5746-4632-8032-dcde988c3d46"
      },
      "source": [
        "## - User diminta input temperature dalam C, dan unit konversi\n",
        "## Jika unit konversi sm dengan R, hasil = ⅘ C;\n",
        "## Jika unit konversi sm dengan F, hasil = 9/5 C + 32; \n",
        "## Jika unit konversi sm dengan K, hasil = C +273.15; \n",
        "## Print hasil\n",
        "\n",
        "suhu = (input(\"Masukan Temperature Suhu dalam C : \"))\n",
        "k_s = input(\"Konversi Suhu --> R - F - K : \")\n",
        "if k_s == 'R' :\n",
        "    suhu = float(suhu)\n",
        "    hasil = (4 / 5 * suhu)\n",
        "    print(hasil)\n",
        "elif k_s == 'F' :\n",
        "    hasil = (9 / 5 * suhu +32)\n",
        "    print(hasil)\n",
        "elif k_s == 'K' :\n",
        "    hasil = (273.15 + suhu)\n",
        "    print(hasil)\n",
        "else :\n",
        "    hasil = 0\n",
        "    print(\"Salah masukan input konversi suhu!!! \\n Ulangi !\")\n",
        "    \n"
      ],
      "execution_count": 59,
      "outputs": [
        {
          "name": "stdout",
          "output_type": "stream",
          "text": [
            "Masukan Temperature Suhu dalam C : 100\n",
            "Konversi Suhu --> R - F - K : R\n"
          ]
        },
        {
          "output_type": "error",
          "ename": "TypeError",
          "evalue": "ignored",
          "traceback": [
            "\u001b[0;31m---------------------------------------------------------------------------\u001b[0m",
            "\u001b[0;31mTypeError\u001b[0m                                 Traceback (most recent call last)",
            "\u001b[0;32m<ipython-input-59-05ce428cc59e>\u001b[0m in \u001b[0;36m<module>\u001b[0;34m()\u001b[0m\n\u001b[1;32m     10\u001b[0m     \u001b[0msuhu\u001b[0m \u001b[0;34m=\u001b[0m \u001b[0mfloat\u001b[0m\u001b[0;34m(\u001b[0m\u001b[0msuhu\u001b[0m\u001b[0;34m)\u001b[0m\u001b[0;34m\u001b[0m\u001b[0;34m\u001b[0m\u001b[0m\n\u001b[1;32m     11\u001b[0m     \u001b[0mhasil\u001b[0m \u001b[0;34m=\u001b[0m \u001b[0;34m(\u001b[0m\u001b[0;36m4\u001b[0m \u001b[0;34m/\u001b[0m \u001b[0;36m5\u001b[0m \u001b[0;34m*\u001b[0m \u001b[0msuhu\u001b[0m\u001b[0;34m)\u001b[0m\u001b[0;34m\u001b[0m\u001b[0;34m\u001b[0m\u001b[0m\n\u001b[0;32m---> 12\u001b[0;31m     \u001b[0mprint\u001b[0m\u001b[0;34m(\u001b[0m\u001b[0mhasil\u001b[0m\u001b[0;34m)\u001b[0m\u001b[0;34m\u001b[0m\u001b[0;34m\u001b[0m\u001b[0m\n\u001b[0m\u001b[1;32m     13\u001b[0m \u001b[0;32melif\u001b[0m \u001b[0mk_s\u001b[0m \u001b[0;34m==\u001b[0m \u001b[0;34m'F'\u001b[0m \u001b[0;34m:\u001b[0m\u001b[0;34m\u001b[0m\u001b[0;34m\u001b[0m\u001b[0m\n\u001b[1;32m     14\u001b[0m     \u001b[0mhasil\u001b[0m \u001b[0;34m=\u001b[0m \u001b[0;34m(\u001b[0m\u001b[0;36m9\u001b[0m \u001b[0;34m/\u001b[0m \u001b[0;36m5\u001b[0m \u001b[0;34m*\u001b[0m \u001b[0msuhu\u001b[0m \u001b[0;34m+\u001b[0m\u001b[0;36m32\u001b[0m\u001b[0;34m)\u001b[0m\u001b[0;34m\u001b[0m\u001b[0;34m\u001b[0m\u001b[0m\n",
            "\u001b[0;31mTypeError\u001b[0m: 'range' object is not callable"
          ]
        }
      ]
    },
    {
      "cell_type": "markdown",
      "metadata": {
        "id": "ztGKqozE0cF0"
      },
      "source": [
        "# Pertemuan 2"
      ]
    },
    {
      "cell_type": "code",
      "metadata": {
        "colab": {
          "base_uri": "https://localhost:8080/"
        },
        "id": "peWbadDa0Zm8",
        "outputId": "1fea7bc2-3f95-4c27-e3e8-137d2bbc7881"
      },
      "source": [
        "#if statement\n",
        "#Potongan harga toko\n",
        "#jika pembeli belanja 1jt dapat disc 50%\n",
        "#jika pembeli belanja 500k dapat disc 25%\n",
        "print(\"Toko Bahagia \\n\")\n",
        "beli = float(input(\"Total jumlah harga yang anda beli : \"))\n",
        "if beli > 1000000 :\n",
        "    disc = (beli * 0.5 )\n",
        "    print (\"Potongan yang anda dapat : \", disc)\n",
        "    bayar = (beli - disc)\n",
        "    print (\"Jumlah yang harus anda bayar : \", bayar)\n",
        "elif beli > 500000 :\n",
        "    disc = (beli * 0.25 )\n",
        "    print (\"Potongan yang anda dapat : \", disc)\n",
        "    bayar = (beli - disc)\n",
        "    print (\"Jumlah yang harus anda bayar : \", bayar)\n",
        "else :\n",
        "    print(\"Terima Kasih :)\")"
      ],
      "execution_count": null,
      "outputs": [
        {
          "output_type": "stream",
          "name": "stdout",
          "text": [
            "Toko Bahagia \n",
            "\n",
            "Total jumlah harga yang anda beli : 600000\n",
            "Potongan yang anda dapat :  150000.0\n",
            "Jumlah yang harus anda bayar :  450000.0\n"
          ]
        }
      ]
    },
    {
      "cell_type": "markdown",
      "metadata": {
        "id": "3UMDV0nI-MFN"
      },
      "source": [
        "# Latihan Nich days 1"
      ]
    },
    {
      "cell_type": "code",
      "metadata": {
        "id": "e-Wz9vGECVBI"
      },
      "source": [
        "## Problem: angka yang dimasukan user akan dikalikan dengan 4. Instruksi: input angka ke dalam variable -> hasil = Angka * 4 -> Keluarkan hasil\n",
        "print(\"Angga Dwi Kurniawan \\n Latihan Haltev\")\n",
        "user = int (input(\"Masukan Angka yang ingin di Input : \"))\n",
        "hasil = (user * 4)\n",
        "print(\"Hasil input setelah dikalikan 4 adalah : \",hasil)"
      ],
      "execution_count": null,
      "outputs": []
    },
    {
      "cell_type": "code",
      "metadata": {
        "colab": {
          "base_uri": "https://localhost:8080/"
        },
        "id": "0PvqHZCV-S-n",
        "outputId": "3e47fee6-0bbf-4f6f-b5a1-2d74ee6b509b"
      },
      "source": [
        "## Problem: menambahkan dua input dari user. Masukan input 1 -> Masukan input 2 -> Hasil = Input 1 + input 2 -> Keluarkan hasil\n",
        "print(\"Angga Dwi Kurniawan \\n Latihan Haltev\")\n",
        "user_1 = int (input(\"Masukan Angka yang ingin di Input 1 : \"))\n",
        "user_2 = int (input(\"Masukan Angka yang ingin di Input 2 : \"))\n",
        "hasil = (user_1 + user_2)\n",
        "print(\"Hasil input setelah ditambahkan kedua user adalah : \",hasil)"
      ],
      "execution_count": null,
      "outputs": [
        {
          "output_type": "stream",
          "name": "stdout",
          "text": [
            "Angga Dwi Kurniawan \n",
            " Latihan Haltev\n",
            "Masukan Angka yang ingin di Input 1 : 10\n",
            "Masukan Angka yang ingin di Input 2 : 20\n",
            "Hasil input setelah ditambahkan kedua user adalah :  30\n"
          ]
        }
      ]
    },
    {
      "cell_type": "code",
      "metadata": {
        "colab": {
          "base_uri": "https://localhost:8080/",
          "height": 197
        },
        "id": "v-54x9Jo-mIr",
        "outputId": "097b516b-309b-4292-f260-edf18bd6d2fc"
      },
      "source": [
        "## Buatlah list dari 1 - 1000 loncat 50\n",
        "print(\"Angga Dwi Kurniawan \\n Latihan Haltev\")\n",
        "var_1=list(range(0,1050,50))\n",
        "print(var_1)"
      ],
      "execution_count": null,
      "outputs": [
        {
          "output_type": "error",
          "ename": "TypeError",
          "evalue": "ignored",
          "traceback": [
            "\u001b[0;31m---------------------------------------------------------------------------\u001b[0m",
            "\u001b[0;31mTypeError\u001b[0m                                 Traceback (most recent call last)",
            "\u001b[0;32m<ipython-input-39-63496d882343>\u001b[0m in \u001b[0;36m<module>\u001b[0;34m()\u001b[0m\n\u001b[1;32m      2\u001b[0m \u001b[0;32mimport\u001b[0m \u001b[0mmatplotlib\u001b[0m\u001b[0;34m.\u001b[0m\u001b[0mpyplot\u001b[0m \u001b[0;32mas\u001b[0m \u001b[0mplt\u001b[0m\u001b[0;34m\u001b[0m\u001b[0;34m\u001b[0m\u001b[0m\n\u001b[1;32m      3\u001b[0m \u001b[0;32mfor\u001b[0m \u001b[0mi\u001b[0m \u001b[0;32min\u001b[0m \u001b[0mrange\u001b[0m\u001b[0;34m(\u001b[0m\u001b[0;36m3\u001b[0m\u001b[0;34m,\u001b[0m\u001b[0;36m100\u001b[0m\u001b[0;34m,\u001b[0m\u001b[0;36m3\u001b[0m\u001b[0;34m)\u001b[0m\u001b[0;34m:\u001b[0m\u001b[0;34m\u001b[0m\u001b[0;34m\u001b[0m\u001b[0m\n\u001b[0;32m----> 4\u001b[0;31m   \u001b[0mprint\u001b[0m\u001b[0;34m(\u001b[0m\u001b[0mi\u001b[0m\u001b[0;34m)\u001b[0m\u001b[0;34m\u001b[0m\u001b[0;34m\u001b[0m\u001b[0m\n\u001b[0m",
            "\u001b[0;31mTypeError\u001b[0m: 'range' object is not callable"
          ]
        }
      ]
    },
    {
      "cell_type": "code",
      "metadata": {
        "id": "_GavqYrmC56G"
      },
      "source": [
        "## Buatlah list dari 10 ke 1\n",
        "print(\"Angga Dwi Kurniawan \\n Latihan Haltev\")\n",
        "var_1=list(range(10,0,-1))\n",
        "print(var_1)"
      ],
      "execution_count": null,
      "outputs": []
    },
    {
      "cell_type": "code",
      "metadata": {
        "id": "Ae1ClOP2ONOF"
      },
      "source": [
        "## Buatlah list dari 0 ke 10\n",
        "print(\"Angga Dwi Kurniawan \\n Latihan Haltev\")\n",
        "var_1=list(range(0,11,1))\n",
        "print(var_1)"
      ],
      "execution_count": null,
      "outputs": []
    },
    {
      "cell_type": "markdown",
      "metadata": {
        "id": "DYaVhXTqPBov"
      },
      "source": [
        "# Latihan days 2"
      ]
    },
    {
      "cell_type": "markdown",
      "metadata": {
        "id": "MYzW5MkyPKfT"
      },
      "source": [
        "## User diminta input temperature dalam C, dan unit konversi -> Jika unit konversi sm dengan R, hasil = ⅘ C; Jika unit konversi sm dengan F, hasil = 9/5 C + 32; Jika unit konversi sm dengan K, hasil = C +273.15; Print hasil\n"
      ]
    },
    {
      "cell_type": "code",
      "metadata": {
        "colab": {
          "base_uri": "https://localhost:8080/",
          "height": 231
        },
        "id": "-h_uZpN4PRMM",
        "outputId": "a03bf39f-6da4-4e83-c64e-b856be7c4727"
      },
      "source": [
        "## - User diminta input temperature dalam C, dan unit konversi\n",
        "## Jika unit konversi sm dengan R, hasil = ⅘ C;\n",
        "## Jika unit konversi sm dengan F, hasil = 9/5 C + 32; \n",
        "## Jika unit konversi sm dengan K, hasil = C +273.15; \n",
        "## Print hasil\n",
        "print(\"Angga Dwi Kurniawan \\n Latihan Haltev \\n Program Temperature suhu\")\n",
        "suhu =float(input(\"Masukan Temperature Suhu dalam C : \"))\n",
        "k_s = (input(\"Konversi Suhu --> R - F - K : \"))\n",
        "if k_s == 'R' :\n",
        "    hasil = (4 / 5 * suhu)\n",
        "    print(\"Hasil Temperature R : \",hasil)\n",
        "elif k_s == 'F' :\n",
        "    hasil = (9 / 5 * suhu +32)\n",
        "    print(\"Hasil Temperature F : \",hasil)\n",
        "elif k_s == 'K' :\n",
        "    hasil = (273.15 + suhu)\n",
        "    print(\"Hasil Temperature K : \",hasil)\n",
        "else :\n",
        "    hasil = 0\n",
        "    print(\"Salah masukan input konversi suhu!!! \\n Ulangi !\")\n",
        "    \n"
      ],
      "execution_count": 60,
      "outputs": [
        {
          "output_type": "error",
          "ename": "TypeError",
          "evalue": "ignored",
          "traceback": [
            "\u001b[0;31m---------------------------------------------------------------------------\u001b[0m",
            "\u001b[0;31mTypeError\u001b[0m                                 Traceback (most recent call last)",
            "\u001b[0;32m<ipython-input-60-7b964c0c0fea>\u001b[0m in \u001b[0;36m<module>\u001b[0;34m()\u001b[0m\n\u001b[1;32m      4\u001b[0m \u001b[0;31m## Jika unit konversi sm dengan K, hasil = C +273.15;\u001b[0m\u001b[0;34m\u001b[0m\u001b[0;34m\u001b[0m\u001b[0;34m\u001b[0m\u001b[0m\n\u001b[1;32m      5\u001b[0m \u001b[0;31m## Print hasil\u001b[0m\u001b[0;34m\u001b[0m\u001b[0;34m\u001b[0m\u001b[0;34m\u001b[0m\u001b[0m\n\u001b[0;32m----> 6\u001b[0;31m \u001b[0mprint\u001b[0m\u001b[0;34m(\u001b[0m\u001b[0;34m\"Angga Dwi Kurniawan \\n Latihan Haltev \\n Program Temperature suhu\"\u001b[0m\u001b[0;34m)\u001b[0m\u001b[0;34m\u001b[0m\u001b[0;34m\u001b[0m\u001b[0m\n\u001b[0m\u001b[1;32m      7\u001b[0m \u001b[0msuhu\u001b[0m \u001b[0;34m=\u001b[0m\u001b[0mfloat\u001b[0m\u001b[0;34m(\u001b[0m\u001b[0minput\u001b[0m\u001b[0;34m(\u001b[0m\u001b[0;34m\"Masukan Temperature Suhu dalam C : \"\u001b[0m\u001b[0;34m)\u001b[0m\u001b[0;34m)\u001b[0m\u001b[0;34m\u001b[0m\u001b[0;34m\u001b[0m\u001b[0m\n\u001b[1;32m      8\u001b[0m \u001b[0mk_s\u001b[0m \u001b[0;34m=\u001b[0m \u001b[0;34m(\u001b[0m\u001b[0minput\u001b[0m\u001b[0;34m(\u001b[0m\u001b[0;34m\"Konversi Suhu --> R - F - K : \"\u001b[0m\u001b[0;34m)\u001b[0m\u001b[0;34m)\u001b[0m\u001b[0;34m\u001b[0m\u001b[0;34m\u001b[0m\u001b[0m\n",
            "\u001b[0;31mTypeError\u001b[0m: 'range' object is not callable"
          ]
        }
      ]
    },
    {
      "cell_type": "code",
      "metadata": {
        "id": "MZKKbraMb5nR",
        "colab": {
          "base_uri": "https://localhost:8080/",
          "height": 231
        },
        "outputId": "d06d9fc6-dbf5-4370-eef0-015ddf61d054"
      },
      "source": [
        "## User diminta input angkaJika angka genap = print “angka genap”,\n",
        "## Jika angka ganjil = print “angka ganjil”, hint gunakan mod (%)\n",
        "print(\"Angga Dwi Kurniawan \\n Latihan Haltev\")\n",
        "angka = int(input(\"Input Angka : \"))\n",
        "if angka % 2 == 0:\n",
        "    print(\"Angka Genap \",angka)\n",
        "else :\n",
        "    print(\"Angka Ganjil \",angka)"
      ],
      "execution_count": 61,
      "outputs": [
        {
          "output_type": "error",
          "ename": "TypeError",
          "evalue": "ignored",
          "traceback": [
            "\u001b[0;31m---------------------------------------------------------------------------\u001b[0m",
            "\u001b[0;31mTypeError\u001b[0m                                 Traceback (most recent call last)",
            "\u001b[0;32m<ipython-input-61-4b416471ec79>\u001b[0m in \u001b[0;36m<module>\u001b[0;34m()\u001b[0m\n\u001b[1;32m      1\u001b[0m \u001b[0;31m## User diminta input angkaJika angka genap = print “angka genap”,\u001b[0m\u001b[0;34m\u001b[0m\u001b[0;34m\u001b[0m\u001b[0;34m\u001b[0m\u001b[0m\n\u001b[1;32m      2\u001b[0m \u001b[0;31m## Jika angka ganjil = print “angka ganjil”, hint gunakan mod (%)\u001b[0m\u001b[0;34m\u001b[0m\u001b[0;34m\u001b[0m\u001b[0;34m\u001b[0m\u001b[0m\n\u001b[0;32m----> 3\u001b[0;31m \u001b[0mprint\u001b[0m\u001b[0;34m(\u001b[0m\u001b[0;34m\"Angga Dwi Kurniawan \\n Latihan Haltev\"\u001b[0m\u001b[0;34m)\u001b[0m\u001b[0;34m\u001b[0m\u001b[0;34m\u001b[0m\u001b[0m\n\u001b[0m\u001b[1;32m      4\u001b[0m \u001b[0mangka\u001b[0m \u001b[0;34m=\u001b[0m \u001b[0mint\u001b[0m\u001b[0;34m(\u001b[0m\u001b[0minput\u001b[0m\u001b[0;34m(\u001b[0m\u001b[0;34m\"Input Angka : \"\u001b[0m\u001b[0;34m)\u001b[0m\u001b[0;34m)\u001b[0m\u001b[0;34m\u001b[0m\u001b[0;34m\u001b[0m\u001b[0m\n\u001b[1;32m      5\u001b[0m \u001b[0;32mif\u001b[0m \u001b[0mangka\u001b[0m \u001b[0;34m%\u001b[0m \u001b[0;36m2\u001b[0m \u001b[0;34m==\u001b[0m \u001b[0;36m0\u001b[0m\u001b[0;34m:\u001b[0m\u001b[0;34m\u001b[0m\u001b[0;34m\u001b[0m\u001b[0m\n",
            "\u001b[0;31mTypeError\u001b[0m: 'range' object is not callable"
          ]
        }
      ]
    },
    {
      "cell_type": "code",
      "metadata": {
        "colab": {
          "base_uri": "https://localhost:8080/",
          "height": 231
        },
        "id": "O6RNUJWtn2l3",
        "outputId": "821e8dbb-824f-460b-82a0-beefc51cc73f"
      },
      "source": [
        "## User diminta input angka/tahunTahun tidak boleh < 2010\n",
        "## Jika input tahun yg diberikan user merupakan tahun kabisat (habis dibagi 4)\n",
        "## maka print “tahun kabisat” ; jika bukan print “tahun basit”\n",
        "print(\"Angga Dwi Kurniawan \\n Latihan Haltev\")\n",
        "tahun = int(input(\"Input tahun : \"))\n",
        "if tahun < 2010 :\n",
        "    print(\"Input salah!(Harus lebih dari 2010!)\")\n",
        "else:\n",
        "    if tahun % 4 == 0 :\n",
        "        print(\"Tahun Kabisat\")\n",
        "    else:\n",
        "        print(\"Tahun Basit\")"
      ],
      "execution_count": 62,
      "outputs": [
        {
          "output_type": "error",
          "ename": "TypeError",
          "evalue": "ignored",
          "traceback": [
            "\u001b[0;31m---------------------------------------------------------------------------\u001b[0m",
            "\u001b[0;31mTypeError\u001b[0m                                 Traceback (most recent call last)",
            "\u001b[0;32m<ipython-input-62-2e58d487f8cf>\u001b[0m in \u001b[0;36m<module>\u001b[0;34m()\u001b[0m\n\u001b[1;32m      2\u001b[0m \u001b[0;31m## Jika input tahun yg diberikan user merupakan tahun kabisat (habis dibagi 4)\u001b[0m\u001b[0;34m\u001b[0m\u001b[0;34m\u001b[0m\u001b[0;34m\u001b[0m\u001b[0m\n\u001b[1;32m      3\u001b[0m \u001b[0;31m## maka print “tahun kabisat” ; jika bukan print “tahun basit”\u001b[0m\u001b[0;34m\u001b[0m\u001b[0;34m\u001b[0m\u001b[0;34m\u001b[0m\u001b[0m\n\u001b[0;32m----> 4\u001b[0;31m \u001b[0mprint\u001b[0m\u001b[0;34m(\u001b[0m\u001b[0;34m\"Angga Dwi Kurniawan \\n Latihan Haltev\"\u001b[0m\u001b[0;34m)\u001b[0m\u001b[0;34m\u001b[0m\u001b[0;34m\u001b[0m\u001b[0m\n\u001b[0m\u001b[1;32m      5\u001b[0m \u001b[0mtahun\u001b[0m \u001b[0;34m=\u001b[0m \u001b[0mint\u001b[0m\u001b[0;34m(\u001b[0m\u001b[0minput\u001b[0m\u001b[0;34m(\u001b[0m\u001b[0;34m\"Input tahun : \"\u001b[0m\u001b[0;34m)\u001b[0m\u001b[0;34m)\u001b[0m\u001b[0;34m\u001b[0m\u001b[0;34m\u001b[0m\u001b[0m\n\u001b[1;32m      6\u001b[0m \u001b[0;32mif\u001b[0m \u001b[0mtahun\u001b[0m \u001b[0;34m<\u001b[0m \u001b[0;36m2010\u001b[0m \u001b[0;34m:\u001b[0m\u001b[0;34m\u001b[0m\u001b[0;34m\u001b[0m\u001b[0m\n",
            "\u001b[0;31mTypeError\u001b[0m: 'range' object is not callable"
          ]
        }
      ]
    },
    {
      "cell_type": "code",
      "metadata": {
        "colab": {
          "base_uri": "https://localhost:8080/",
          "height": 248
        },
        "id": "DM0a8HSfqADi",
        "outputId": "0e54dee6-09b4-4a3e-e7c3-532dd9d6f45d"
      },
      "source": [
        "## Buat deret fibonacci sampai angka 55 dengan menggunakan looping. Deret fibonacci: 1, 1, 2, 3, 5, 8, 13, 21, 34, 55\n",
        "print(\"Angga Dwi Kurniawan \\n Latihan Haltev\")\n",
        "a = 0\n",
        "b = 1\n",
        "c = 1\n",
        "while (c <= 9):\n",
        "    nilaiFibonacci = a + b\n",
        "    a = b\n",
        "    b = nilaiFibonacci\n",
        "    print(nilaiFibonacci, end=',')\n",
        "    c = c + 1"
      ],
      "execution_count": 63,
      "outputs": [
        {
          "output_type": "error",
          "ename": "TypeError",
          "evalue": "ignored",
          "traceback": [
            "\u001b[0;31m---------------------------------------------------------------------------\u001b[0m",
            "\u001b[0;31mTypeError\u001b[0m                                 Traceback (most recent call last)",
            "\u001b[0;32m<ipython-input-63-c603ea9302ce>\u001b[0m in \u001b[0;36m<module>\u001b[0;34m()\u001b[0m\n\u001b[1;32m      1\u001b[0m \u001b[0;31m## Buat deret fibonacci sampai angka 55 dengan menggunakan looping. Deret fibonacci: 1, 1, 2, 3, 5, 8, 13, 21, 34, 55\u001b[0m\u001b[0;34m\u001b[0m\u001b[0;34m\u001b[0m\u001b[0;34m\u001b[0m\u001b[0m\n\u001b[0;32m----> 2\u001b[0;31m \u001b[0mprint\u001b[0m\u001b[0;34m(\u001b[0m\u001b[0;34m\"Angga Dwi Kurniawan \\n Latihan Haltev\"\u001b[0m\u001b[0;34m)\u001b[0m\u001b[0;34m\u001b[0m\u001b[0;34m\u001b[0m\u001b[0m\n\u001b[0m\u001b[1;32m      3\u001b[0m \u001b[0ma\u001b[0m \u001b[0;34m=\u001b[0m \u001b[0;36m0\u001b[0m\u001b[0;34m\u001b[0m\u001b[0;34m\u001b[0m\u001b[0m\n\u001b[1;32m      4\u001b[0m \u001b[0mb\u001b[0m \u001b[0;34m=\u001b[0m \u001b[0;36m1\u001b[0m\u001b[0;34m\u001b[0m\u001b[0;34m\u001b[0m\u001b[0m\n\u001b[1;32m      5\u001b[0m \u001b[0mc\u001b[0m \u001b[0;34m=\u001b[0m \u001b[0;36m1\u001b[0m\u001b[0;34m\u001b[0m\u001b[0;34m\u001b[0m\u001b[0m\n",
            "\u001b[0;31mTypeError\u001b[0m: 'range' object is not callable"
          ]
        }
      ]
    },
    {
      "cell_type": "code",
      "metadata": {
        "id": "dH0MmE2zz9jC"
      },
      "source": [
        "print(\"Angga Dwi Kurniawan \\n Latihan Haltev\")\n",
        "a = 5\n",
        "for i in range(0, a):\n",
        "    for j in range(0, i + 1):\n",
        "        print('* ' , end='')\n",
        "    print('')\n"
      ],
      "execution_count": null,
      "outputs": []
    },
    {
      "cell_type": "code",
      "metadata": {
        "id": "gBQZ7AguSWyH"
      },
      "source": [
        "## Buat deret fibonacci sampai angka 55 dengan menggunakan looping. Deret fibonacci: 1, 1, 2, 3, 5, 8, 13, 21, 34, 55\n",
        "print(\"Angga Dwi Kurniawan \\n Latihan Haltev\")\n",
        "a = 0\n",
        "b = 1\n",
        "c = 1\n",
        "while (c <= 9):\n",
        "    nilaiFibonacci = a + b\n",
        "    a = b\n",
        "    b = nilaiFibonacci\n",
        "    print(nilaiFibonacci, end=',')\n",
        "    c = c + 1"
      ],
      "execution_count": null,
      "outputs": []
    },
    {
      "cell_type": "code",
      "metadata": {
        "id": "9qzcX5g3SR3f"
      },
      "source": [
        "print(\"Angga Dwi Kurniawan \\n Latihan Haltev\")\n",
        "a = 5\n",
        "for i in range(0, a):\n",
        "    for j in range(0, i + 1):\n",
        "        print('* ' , end='')\n",
        "    print('')"
      ],
      "execution_count": null,
      "outputs": []
    },
    {
      "cell_type": "code",
      "metadata": {
        "colab": {
          "base_uri": "https://localhost:8080/",
          "height": 231
        },
        "id": "XHWSjOP4SH2R",
        "outputId": "6cd5f065-8992-4fa7-ae1c-4b33531ea6a3"
      },
      "source": [
        "print(\"Angga Dwi Kurniawan \\n Latihan Haltev\")\n",
        "harga_barang = [50000, 60000, 100000, 150000]\n",
        "diskon = [\"10%\",\"20%\",\"30%\",\"40%\"]\n",
        "setelah_diskon = [45000, 48000, 70000, 90000]\n",
        "print(\"Harga Barang : \", harga_barang)\n",
        "print(\"Diskon : \", diskon)\n",
        "print(\"Setelah Diskon : \", setelah_diskon)"
      ],
      "execution_count": 64,
      "outputs": [
        {
          "output_type": "error",
          "ename": "TypeError",
          "evalue": "ignored",
          "traceback": [
            "\u001b[0;31m---------------------------------------------------------------------------\u001b[0m",
            "\u001b[0;31mTypeError\u001b[0m                                 Traceback (most recent call last)",
            "\u001b[0;32m<ipython-input-64-d118471605dc>\u001b[0m in \u001b[0;36m<module>\u001b[0;34m()\u001b[0m\n\u001b[0;32m----> 1\u001b[0;31m \u001b[0mprint\u001b[0m\u001b[0;34m(\u001b[0m\u001b[0;34m\"Angga Dwi Kurniawan \\n Latihan Haltev\"\u001b[0m\u001b[0;34m)\u001b[0m\u001b[0;34m\u001b[0m\u001b[0;34m\u001b[0m\u001b[0m\n\u001b[0m\u001b[1;32m      2\u001b[0m \u001b[0mharga_barang\u001b[0m \u001b[0;34m=\u001b[0m \u001b[0;34m[\u001b[0m\u001b[0;36m50000\u001b[0m\u001b[0;34m,\u001b[0m \u001b[0;36m60000\u001b[0m\u001b[0;34m,\u001b[0m \u001b[0;36m100000\u001b[0m\u001b[0;34m,\u001b[0m \u001b[0;36m150000\u001b[0m\u001b[0;34m]\u001b[0m\u001b[0;34m\u001b[0m\u001b[0;34m\u001b[0m\u001b[0m\n\u001b[1;32m      3\u001b[0m \u001b[0mdiskon\u001b[0m \u001b[0;34m=\u001b[0m \u001b[0;34m[\u001b[0m\u001b[0;34m\"10%\"\u001b[0m\u001b[0;34m,\u001b[0m\u001b[0;34m\"20%\"\u001b[0m\u001b[0;34m,\u001b[0m\u001b[0;34m\"30%\"\u001b[0m\u001b[0;34m,\u001b[0m\u001b[0;34m\"40%\"\u001b[0m\u001b[0;34m]\u001b[0m\u001b[0;34m\u001b[0m\u001b[0;34m\u001b[0m\u001b[0m\n\u001b[1;32m      4\u001b[0m \u001b[0msetelah_diskon\u001b[0m \u001b[0;34m=\u001b[0m \u001b[0;34m[\u001b[0m\u001b[0;36m45000\u001b[0m\u001b[0;34m,\u001b[0m \u001b[0;36m48000\u001b[0m\u001b[0;34m,\u001b[0m \u001b[0;36m70000\u001b[0m\u001b[0;34m,\u001b[0m \u001b[0;36m90000\u001b[0m\u001b[0;34m]\u001b[0m\u001b[0;34m\u001b[0m\u001b[0;34m\u001b[0m\u001b[0m\n\u001b[1;32m      5\u001b[0m \u001b[0mprint\u001b[0m\u001b[0;34m(\u001b[0m\u001b[0;34m\"Harga Barang : \"\u001b[0m\u001b[0;34m,\u001b[0m \u001b[0mharga_barang\u001b[0m\u001b[0;34m)\u001b[0m\u001b[0;34m\u001b[0m\u001b[0;34m\u001b[0m\u001b[0m\n",
            "\u001b[0;31mTypeError\u001b[0m: 'range' object is not callable"
          ]
        }
      ]
    },
    {
      "cell_type": "code",
      "metadata": {
        "id": "FRfhqv5dSJHq"
      },
      "source": [
        ""
      ],
      "execution_count": null,
      "outputs": []
    }
  ]
}